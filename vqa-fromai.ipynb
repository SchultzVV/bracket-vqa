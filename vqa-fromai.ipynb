{
 "cells": [
  {
   "attachments": {},
   "cell_type": "markdown",
   "metadata": {},
   "source": [
    "Para criar uma classe que realiza a otimização de ângulos de portas paramétricas usando princípios SOLID, podemos seguir alguns passos básicos:\n",
    "\n",
    "Definir uma interface que represente a otimização de ângulos. Isso pode ser feito usando a abstração fornecida pelo princípio \"I\" de SOLID (Interface Segregation Principle). A interface deve definir os métodos necessários para realizar a otimização, como optimize_angles() e get_optimized_circuit()."
   ]
  },
  {
   "cell_type": "code",
   "execution_count": null,
   "metadata": {},
   "outputs": [],
   "source": [
    "from abc import ABC, abstractmethod\n",
    "from braket.circuits import Circuit\n",
    "\n",
    "class AngleOptimizer(ABC):\n",
    "    @abstractmethod\n",
    "    def optimize_angles(self, circuit: Circuit, operator: object) -> None:\n",
    "        pass\n",
    "    \n",
    "    @abstractmethod\n",
    "    def get_optimized_circuit(self) -> Circuit:\n",
    "        pass\n"
   ]
  },
  {
   "attachments": {},
   "cell_type": "markdown",
   "metadata": {},
   "source": [
    "Implementar uma classe que realiza a otimização de ângulos usando um algoritmo de otimização apropriado, como o método de gradiente conjugado. Isso pode ser feito usando a abstração fornecida pelo princípio \"D\" de SOLID (Dependency Inversion Principle), que estipula que as classes devem depender de abstrações, não de implementações concretas."
   ]
  },
  {
   "cell_type": "code",
   "execution_count": null,
   "metadata": {},
   "outputs": [],
   "source": [
    "from braket.circuits import Circuit\n",
    "from scipy.optimize import minimize\n",
    "from typing import List\n",
    "from .angle_optimizer import AngleOptimizer\n",
    "\n",
    "class CGAngleOptimizer(AngleOptimizer):\n",
    "    def __init__(self, maxiter: int = 1000, tol: float = 1e-6) -> None:\n",
    "        self.maxiter = maxiter\n",
    "        self.tol = tol\n",
    "        self._optimized_circuit = None\n",
    "    \n",
    "    def optimize_angles(self, circuit: Circuit, operator: object) -> None:\n",
    "        def cost_function(x: List[float]) -> float:\n",
    "            # Define a função de custo que é a norma do operador desejado menos o operador calculado\n",
    "            op = operator(x)\n",
    "            return abs(op - target_op).max()\n",
    "\n",
    "        # Define o alvo como o operador desejado\n",
    "        target_op = operator(circuit.params)\n",
    "        # Otimiza a função de custo\n",
    "        result = minimize(cost_function, circuit.params, method=\"CG\", tol=self.tol, options={\"maxiter\": self.maxiter})\n",
    "        # Atualiza os ângulos no circuito\n",
    "        circuit.params = result.x\n",
    "        # Define o circuito otimizado\n",
    "        self._optimized_circuit = circuit\n",
    "    \n",
    "    def get_optimized_circuit(self) -> Circuit:\n",
    "        if self._optimized_circuit is None:\n",
    "            raise ValueError(\"No circuit has been optimized yet.\")\n",
    "        return self._optimized_circuit\n"
   ]
  },
  {
   "attachments": {},
   "cell_type": "markdown",
   "metadata": {},
   "source": [
    "Neste exemplo, implementamos a classe CGAngleOptimizer, que usa o método de gradiente conjugado para otimizar os ângulos do circuito. A classe herda da interface AngleOptimizer e implementa os métodos optimize_angles() e get_optimized_circuit(). O método optimize_angles() define a função de custo e usa o método de otimização minimize() da biblioteca SciPy para otimizar os ângulos. O método get_optimized_circuit() retorna o circuito otimizado.\n",
    "\n",
    "Com essas classes definidas, podemos usá-las da seguinte maneira:"
   ]
  },
  {
   "cell_type": "code",
   "execution_count": null,
   "metadata": {},
   "outputs": [],
   "source": [
    "from braket.circuits import Circuit\n",
    "from .cg_angle_optimizer import CGAngleOptimizer\n",
    "\n",
    "# Define um circuito e um operador a ser otimizado\n",
    "circ = Circuit().rx(\"theta\", 0).\n"
   ]
  },
  {
   "attachments": {},
   "cell_type": "markdown",
   "metadata": {},
   "source": [
    "USANDO ADAM\n"
   ]
  },
  {
   "cell_type": "code",
   "execution_count": null,
   "metadata": {},
   "outputs": [],
   "source": [
    "from braket.circuits import Circuit\n",
    "from scipy.optimize import minimize\n",
    "from typing import List\n",
    "from .angle_optimizer import AngleOptimizer\n",
    "\n",
    "class AdamAngleOptimizer(AngleOptimizer):\n",
    "    def __init__(self, maxiter: int = 1000, tol: float = 1e-6, learning_rate: float = 0.1) -> None:\n",
    "        self.maxiter = maxiter\n",
    "        self.tol = tol\n",
    "        self.learning_rate = learning_rate\n",
    "        self._optimized_circuit = None\n",
    "    \n",
    "    def optimize_angles(self, circuit: Circuit, operator: object) -> None:\n",
    "        def cost_function(x: List[float]) -> float:\n",
    "            # Define a função de custo que é a norma do operador desejado menos o operador calculado\n",
    "            op = operator(x)\n",
    "            return abs(op - target_op).max()\n",
    "\n",
    "        # Define o alvo como o operador desejado\n",
    "        target_op = operator(circuit.params)\n",
    "        # Otimiza a função de custo\n",
    "        result = minimize(cost_function, circuit.params, method=\"L-BFGS-B\", tol=self.tol, options={\"maxiter\": self.maxiter}, jac=True)\n",
    "        # Atualiza os ângulos no circuito\n",
    "        circuit.params = result.x\n",
    "        # Define o circuito otimizado\n",
    "        self._optimized_circuit = circuit\n",
    "    \n",
    "    def get_optimized_circuit(self) -> Circuit:\n",
    "        if self._optimized_circuit is None:\n",
    "            raise ValueError(\"No circuit has been optimized yet.\")\n",
    "        return self._optimized_circuit\n"
   ]
  }
 ],
 "metadata": {
  "language_info": {
   "name": "python"
  },
  "orig_nbformat": 4
 },
 "nbformat": 4,
 "nbformat_minor": 2
}
